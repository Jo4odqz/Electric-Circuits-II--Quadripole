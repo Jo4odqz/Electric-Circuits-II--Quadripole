{
 "cells": [
  {
   "cell_type": "code",
   "execution_count": 6,
   "metadata": {},
   "outputs": [
    {
     "name": "stdout",
     "output_type": "stream",
     "text": [
      "[[  0.01579366+1.8558754j  -12.47120341+6.38265281j]\n",
      " [ -0.04795724+0.43674531j  -3.10502498+0.61451835j]]\n",
      "\n",
      "Tensão Z3:  (36948.25659305584, -1.5622007940081801)\n",
      "Corrente Z3:  (30.68096283433752, -2.7002788033217966)\n"
     ]
    }
   ],
   "source": [
    "import numpy as np\n",
    "from cmath import polar\n",
    "from network import Network\n",
    "from quadripoles import Quadripole, SeriesImpedance, ShuntAdmittance, PiCircuit, Transformer\n",
    "\n",
    "network = Network(v1=69e3)\n",
    "s_imped_th = SeriesImpedance(z=4+0.38j)\n",
    "\n",
    "t1 = Transformer(n= 69e3/230e3, z1= 7.6e-3 + 3.8e-3j, z2= 33.9e-3 + 0.85e-3j,\n",
    "                 y=(4320 + 5050j)/(4320*5050j))\n",
    "\n",
    "network.set_resultant_matrix(network.cascade_connection(s_imped_th.net_mtrx, t1.net_mtrx))\n",
    "\n",
    "rkm = 0.182\n",
    "xlkm = 120*np.pi*2.28e-3j\n",
    "xckm = 1/(120*np.pi*0.0140e-6j)\n",
    "\n",
    "lt1 = PiCircuit(z= rkm*100 + xlkm*100, y1=4/xckm * 100, y2=(4/xckm) * 100)\n",
    "lt2 = PiCircuit(z= rkm*100 + xlkm*100, y1=4/xckm * 100, y2=(4/xckm) * 100)\n",
    "\n",
    "ltpll1 = network.parallel_connection(lt1.net_mtrx, lt2.net_mtrx)\n",
    "\n",
    "network.set_resultant_matrix(network.cascade_connection(network.resultant_mtrx, ltpll1))\n",
    "\n",
    "z1=ShuntAdmittance(z=8400 + 120*np.pi*46j)\n",
    "\n",
    "lt3 = PiCircuit(z= rkm*100 + xlkm*100, y1=4/xckm * 100, y2=(4/xckm) * 100)\n",
    "\n",
    "network.set_resultant_matrix(network.cascade_connection(network.resultant_mtrx, lt3.net_mtrx))\n",
    "\n",
    "t2 = Transformer(n= 230e3/138e3, z1= 7.6e-3 + 3.8e-3j, z2= 33.9e-3 + 0.85e-3j,\n",
    "                 y= (432000 + 505000j)/(432000*505000j))\n",
    "\n",
    "network.set_resultant_matrix(network.cascade_connection(network.resultant_mtrx, t2.net_mtrx))\n",
    "\n",
    "z2=ShuntAdmittance(z=1175.55 + 120*np.pi*6.43j)\n",
    "\n",
    "network.set_resultant_matrix(network.cascade_connection(network.resultant_mtrx, z2.net_mtrx))\n",
    "\n",
    "lt4 = PiCircuit(z= rkm*80 + xlkm*80, y1=4/xckm * 80, y2=(4/xckm) * 80)\n",
    "\n",
    "network.set_resultant_matrix(network.cascade_connection(network.resultant_mtrx, lt4.net_mtrx))\n",
    "\n",
    "t3=Transformer(n= 138e3/69e3, z1= 7.6e-3 + 3.8e-3j, z2= 33.9e-3 + 0.85e-3j,\n",
    "                 y=(402000 + 607000j)/(402000*607000j))\n",
    "\n",
    "network.set_resultant_matrix(network.cascade_connection(network.resultant_mtrx, t3.net_mtrx))\n",
    "\n",
    "# z3=ShuntAdmittance(z=529 + 120*np.pi*2.9j)\n",
    "\n",
    "print(network.resultant_mtrx)\n",
    "\n",
    "vz3 = 69e3/(network.resultant_mtrx[0][0] + network.resultant_mtrx[0][1]/(529 + 120*np.pi*2.9j))\n",
    "iz3 = vz3/(505 + 120*np.pi*2.9j)\n",
    "\n",
    "print('\\nTensão Z3: ', polar(vz3))\n",
    "print('Corrente Z3: ', polar(iz3))\n",
    "\n"
   ]
  }
 ],
 "metadata": {
  "kernelspec": {
   "display_name": "Python 3",
   "language": "python",
   "name": "python3"
  },
  "language_info": {
   "codemirror_mode": {
    "name": "ipython",
    "version": 3
   },
   "file_extension": ".py",
   "mimetype": "text/x-python",
   "name": "python",
   "nbconvert_exporter": "python",
   "pygments_lexer": "ipython3",
   "version": "3.11.2"
  }
 },
 "nbformat": 4,
 "nbformat_minor": 2
}
