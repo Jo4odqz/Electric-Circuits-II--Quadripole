{
 "cells": [
  {
   "cell_type": "code",
   "execution_count": 22,
   "metadata": {},
   "outputs": [
    {
     "name": "stdout",
     "output_type": "stream",
     "text": [
      "\n",
      "Tensão Z3:  (22066.990127288194, -0.9625032295759496)\n",
      "Corrente Z3:  (19.420648745633585, -2.0727518148160526)\n"
     ]
    }
   ],
   "source": [
    "#considerando as tensões nos transformadores do diagrama\n",
    "import numpy as np\n",
    "from cmath import polar\n",
    "from network import Network\n",
    "from quadripoles import Quadripole, SeriesImpedance, ShuntAdmittance, PiCircuit, Transformer\n",
    "\n",
    "network = Network(v1=69e3)\n",
    "\n",
    "s_imped_th = SeriesImpedance(z=4+0.38j)\n",
    "\n",
    "t1 = Transformer(n= 230e3/69e3, z1= 7.6e-3 + 3.8e-3j, z2= 33.9e-3 + 0.85e-3j,\n",
    "                 y=(4320 + 5050j)/(4320*5050j))\n",
    "\n",
    "network.set_resultant_matrix(network.cascade_connection(s_imped_th.net_mtrx, t1.net_mtrx))\n",
    "\n",
    "rkm = 0.172\n",
    "xlkm = 120*np.pi*2.18e-3j\n",
    "xckm = 1/(120*np.pi*0.0136e-6j)\n",
    "\n",
    "lt1 = PiCircuit(z= rkm*100 + xlkm*100, y1=4/xckm * 100, y2=(4/xckm) * 100)\n",
    "lt2 = PiCircuit(z= rkm*100 + xlkm*100, y1=4/xckm * 100, y2=(4/xckm) * 100)\n",
    "lt3 = PiCircuit(z= rkm*100 + xlkm*100, y1=4/xckm * 100, y2=(4/xckm) * 100)\n",
    "\n",
    "ltpl1 = network.parallel_connection(network.parallel_connection(lt1.net_mtrx, lt2.net_mtrx), lt3.net_mtrx)\n",
    "\n",
    "network.set_resultant_matrix(network.cascade_connection(network.resultant_mtrx, ltpl1))\n",
    "\n",
    "z1=ShuntAdmittance(z=8530 + 120*np.pi*52j)\n",
    "\n",
    "network.set_resultant_matrix(network.cascade_connection(network.resultant_mtrx, z1.net_mtrx))\n",
    "\n",
    "lt4 = PiCircuit(z= rkm*100 + xlkm*100, y1=2/xckm * 100, y2=(2/xckm) * 100)\n",
    "lt5 = PiCircuit(z= rkm*100 + xlkm*100, y1=2/xckm * 100, y2=(2/xckm) * 100)\n",
    "\n",
    "lt2pl = network.parallel_connection(lt4.net_mtrx, lt5.net_mtrx)\n",
    "\n",
    "network.set_resultant_matrix(network.cascade_connection(network.resultant_mtrx, lt2pl))\n",
    "\n",
    "t2 = Transformer(n= 138e3/230e3, z1= 7.6e-3 + 3.8e-3j, z2= 33.9e-3 + 0.85e-3j,\n",
    "                 y= (432000 + 505000j)/(432000*505000j))\n",
    "\n",
    "network.set_resultant_matrix(network.cascade_connection(network.resultant_mtrx, t2.net_mtrx))\n",
    "\n",
    "z2=ShuntAdmittance(z=1050.55 + 120*np.pi*6.02j)\n",
    "\n",
    "\n",
    "vz2 = 69e3/(network.resultant_mtrx[0][0] + network.resultant_mtrx[0][1]/(1050.55 + 120*np.pi*6.02j))\n",
    "iz2 = vz2/(1050.55 + 120*np.pi*6.02j)\n",
    "\n",
    "\n",
    "network.set_resultant_matrix(network.cascade_connection(network.resultant_mtrx, z2.net_mtrx))\n",
    "\n",
    "lt6=PiCircuit(z= rkm*120 + xlkm*120, y1=4/xckm * 120, y2=(4/xckm) * 120)\n",
    "\n",
    "network.set_resultant_matrix(network.cascade_connection(network.resultant_mtrx, lt6.net_mtrx))\n",
    "\n",
    "t3=Transformer(n=69e3/1e3, z1= 7.6e-3 + 3.8e-3j, z2= 33.9e-3 + 0.85e-3j,\n",
    "                 y=(402000 + 607000j)/(402000*607000j))\n",
    "\n",
    "\n",
    "network.set_resultant_matrix(network.cascade_connection(network.resultant_mtrx, t3.net_mtrx))\n",
    "\n",
    "z3=ShuntAdmittance(z=505 + 120*np.pi*2.7j)\n",
    "\n",
    "\n",
    "\n",
    "vz3 = 69e3/(network.resultant_mtrx[0][0] + network.resultant_mtrx[0][1]/(505 + 120*np.pi*2.7j))\n",
    "iz3 = vz3/(505 + 120*np.pi*2.7j)\n",
    "\n",
    "# print('matriz', lt1.net_mtrx)\n",
    "print('\\nTensão Z3: ', polar(vz3))\n",
    "print('Corrente Z3: ', polar(iz3))\n"
   ]
  }
 ],
 "metadata": {
  "kernelspec": {
   "display_name": "Python 3",
   "language": "python",
   "name": "python3"
  },
  "language_info": {
   "codemirror_mode": {
    "name": "ipython",
    "version": 3
   },
   "file_extension": ".py",
   "mimetype": "text/x-python",
   "name": "python",
   "nbconvert_exporter": "python",
   "pygments_lexer": "ipython3",
   "version": "3.10.9"
  }
 },
 "nbformat": 4,
 "nbformat_minor": 2
}
